{
 "cells": [
  {
   "cell_type": "code",
   "execution_count": 6,
   "id": "occasional-might",
   "metadata": {},
   "outputs": [
    {
     "ename": "ImportError",
     "evalue": "cannot import name 'scrape_hemishperes'",
     "output_type": "error",
     "traceback": [
      "\u001b[0;31m---------------------------------------------------------------------------\u001b[0m",
      "\u001b[0;31mImportError\u001b[0m                               Traceback (most recent call last)",
      "\u001b[0;32m<ipython-input-6-6df08bf7ffb6>\u001b[0m in \u001b[0;36m<module>\u001b[0;34m\u001b[0m\n\u001b[0;32m----> 1\u001b[0;31m \u001b[0;32mfrom\u001b[0m \u001b[0mscrape_mars\u001b[0m \u001b[0;32mimport\u001b[0m \u001b[0mscrape_news\u001b[0m\u001b[0;34m,\u001b[0m\u001b[0mscrape_featured_img\u001b[0m\u001b[0;34m,\u001b[0m\u001b[0mscrape_facts\u001b[0m\u001b[0;34m,\u001b[0m\u001b[0mscrape_hemishperes\u001b[0m\u001b[0;34m\u001b[0m\u001b[0;34m\u001b[0m\u001b[0m\n\u001b[0m",
      "\u001b[0;31mImportError\u001b[0m: cannot import name 'scrape_hemishperes'"
     ]
    }
   ],
   "source": [
    "from scrape_mars import scrape_news,scrape_featured_img,scrape_facts,scrape_hemispheres"
   ]
  },
  {
   "cell_type": "code",
   "execution_count": 4,
   "id": "convenient-linux",
   "metadata": {},
   "outputs": [
    {
     "name": "stdout",
     "output_type": "stream",
     "text": [
      "[{'title': \"NASA's Perseverance Rover Begins Its First Science Campaign on Mars\", 'paragraph': 'The six-wheeled scientist is heading south to explore Jezero Crater’s lakebed in search of signs of ancient microbial life.', 'url': 'https://mars.nasa.gov/news/news/8963/nasas-perseverance-rover-begins-its-first-science-campaign-on-mars/'}, {'title': \"NASA's InSight Mars Lander Gets a Power Boost\", 'paragraph': 'The spacecraft successfully cleared some dust off its solar panels, helping to raise its energy and delay when it will need to switch off its science instruments.', 'url': 'https://mars.nasa.gov/news/news/8959/nasas-insight-mars-lander-gets-a-power-boost/'}, {'title': \"NASA's Curiosity Rover Captures Shining Clouds on Mars\", 'paragraph': 'The science team is studying the clouds, which arrived earlier and formed higher than expected, to learn more about the Red Planet. ', 'url': 'https://mars.nasa.gov/news/news/8956/nasas-curiosity-rover-captures-shining-clouds-on-mars/'}, {'title': 'Life Goals: NASA Software Unlocks Martian Rover Productivity', 'paragraph': 'Productivity pundits know lots of tricks to make the most of your day, so you can schedule enough time for important tasks while guarding against overload.', 'url': 'https://mars.nasa.gov/news/news/8954/life-goals-nasa-software-unlocks-martian-rover-productivity/'}, {'title': 'Salts Could Be Important Piece of Martian Organic Puzzle', 'paragraph': \"A NASA team has found that organic, or carbon-containing, salts are likely present on Mars, with implications for the Red Planet's past habitability.\", 'url': 'https://mars.nasa.gov/news/news/8950/salts-could-be-important-piece-of-martian-organic-puzzle/'}, {'title': \"Seeing NASA's Ingenuity Mars Helicopter Fly in 3D\", 'paragraph': 'A new video of the helicopter’s third flight gives viewers the sensation of standing on the Red Planet and seeing the action firsthand.', 'url': 'https://mars.nasa.gov/news/news/8946/seeing-nasas-ingenuity-mars-helicopter-fly-in-3d/'}, {'title': \"Perseverance's Robotic Arm Starts Conducting Science\", 'paragraph': 'NASA’s newest Mars rover is beginning to study the floor of an ancient crater that once held a lake.', 'url': 'https://mars.nasa.gov/news/news/8944/perseverances-robotic-arm-starts-conducting-science/'}, {'title': \"NASA's Ingenuity Mars Helicopter Completes First One-Way Trip  \", 'paragraph': 'The Red Planet rotorcraft headed south in support of furthering research into the potential use of aerial scouts on Mars in the future.', 'url': 'https://mars.nasa.gov/news/news/8942/nasas-ingenuity-mars-helicopter-completes-first-one-way-trip/'}, {'title': \"NASA's Perseverance Captures Video, Audio of Fourth Ingenuity Flight\", 'paragraph': 'Sounds of the Mars Helicopter’s whirring rotors add another new dimension to the historic project.', 'url': 'https://mars.nasa.gov/news/news/8941/nasas-perseverance-captures-video-audio-of-fourth-ingenuity-flight/'}, {'title': \"NASA's Ingenuity Helicopter to Begin New Demonstration Phase\", 'paragraph': 'The Red Planet rotorcraft will shift focus from proving flight is possible on Mars to demonstrating flight operations that future aerial craft could utilize.', 'url': 'https://mars.nasa.gov/news/news/8936/nasas-ingenuity-helicopter-to-begin-new-demonstration-phase/'}, {'title': 'NASA Sets Briefing to Discuss Ingenuity Mars Helicopter Next Steps', 'paragraph': 'With three successful flights in the logbook, Ingenuity has demonstrated it is ready for more.\\n\\n', 'url': 'https://mars.nasa.gov/news/news/8934/nasa-sets-briefing-to-discuss-ingenuity-mars-helicopter-next-steps/'}, {'title': 'With Goals Met, NASA to Push Envelope With Ingenuity Mars Helicopter', 'paragraph': 'With three successful flights in the logbook, Ingenuity has demonstrated it is ready for more.', 'url': 'https://mars.nasa.gov/news/news/8933/with-goals-met-nasa-to-push-envelope-with-ingenuity-mars-helicopter/'}, {'title': \"NASA's Ingenuity Mars Helicopter Flies Faster, Farther on Third Flight\", 'paragraph': 'The craft’s April 25 flight was conducted at speeds and distances beyond what had ever been previously demonstrated, even in testing on Earth.', 'url': 'https://mars.nasa.gov/news/news/8930/nasas-ingenuity-mars-helicopter-flies-faster-farther-on-third-flight/'}, {'title': \"NASA's Ingenuity Mars Helicopter Logs Second Successful Flight\", 'paragraph': 'The small rotorcraft’s horizons were expanded on its second flight. ', 'url': 'https://mars.nasa.gov/news/news/8928/nasas-ingenuity-mars-helicopter-logs-second-successful-flight/'}, {'title': \"NASA's Perseverance Mars Rover Extracts First Oxygen From Red Planet\", 'paragraph': 'The milestone, which the MOXIE instrument achieved by converting carbon dioxide into oxygen, points the way to future human exploration of the Red Planet. ', 'url': 'https://mars.nasa.gov/news/news/8926/nasas-perseverance-mars-rover-extracts-first-oxygen-from-red-planet/'}, {'title': \"NASA's Ingenuity Mars Helicopter Succeeds in Historic First Flight\", 'paragraph': 'The small rotorcraft made history, hovering above Jezero Crater, demonstrating that powered, controlled flight on another planet is possible.', 'url': 'https://mars.nasa.gov/news/news/8923/nasas-ingenuity-mars-helicopter-succeeds-in-historic-first-flight/'}, {'title': 'NASA to Attempt First Controlled Flight on Mars As Soon As Monday', 'paragraph': 'A livestream will begin at 3:15 a.m. PDT that morning as the helicopter team prepares to receive the data downlink at NASA’s Jet Propulsion Laboratory.', 'url': 'https://mars.nasa.gov/news/news/8919/nasa-to-attempt-first-controlled-flight-on-mars-as-soon-as-monday/'}, {'title': \"NASA's Mars Helicopter to Make First Flight Attempt\", 'paragraph': 'The small rotorcraft’s “Wright brothers moment” is two Mars days away.', 'url': 'https://mars.nasa.gov/news/news/8915/nasas-mars-helicopter-to-make-first-flight-attempt/'}, {'title': 'Webinars--Taking Flight: How Girls Can Grow up to Be Engineers ', 'paragraph': 'Do you like solving problems, working with other people, and making a difference? Consider a career in engineering!', 'url': 'https://mars.nasa.gov/news/news/8914/webinars-taking-flight-how-girls-can-grow-up-to-be-engineers/'}, {'title': \"Say Cheese on Mars: Perseverance's Selfie With Ingenuity\", 'paragraph': 'NASA’s newest Mars rover used a camera on the end of its robotic arm to snap this shot of itself with the Ingenuity helicopter nearby.', 'url': 'https://mars.nasa.gov/news/news/8912/say-cheese-on-mars-perseverances-selfie-with-ingenuity/'}, {'title': \"NASA's Odyssey Orbiter Marks 20 Historic Years of Mapping Mars \", 'paragraph': 'For two decades, the longest-lived spacecraft at the Red Planet has helped locate water ice, assess landing sites, and study the planet’s mysterious moons.\\n', 'url': 'https://mars.nasa.gov/news/news/8911/nasas-odyssey-orbiter-marks-20-historic-years-of-mapping-mars/'}, {'title': 'NASA Invites Public to Take Flight With Ingenuity Mars Helicopter ', 'paragraph': 'The helicopter is scheduled to lift off close to the end of the day on April 11.', 'url': 'https://mars.nasa.gov/news/news/8910/nasa-invites-public-to-take-flight-with-ingenuity-mars-helicopter/'}, {'title': \"NASA's First Weather Report From Jezero Crater on Mars\", 'paragraph': 'Perseverance’s MEDA will help us understand how to prepare astronauts for a future on the Red Planet.', 'url': 'https://mars.nasa.gov/news/news/8909/nasas-first-weather-report-from-jezero-crater-on-mars/'}, {'title': \"NASA's Curiosity Team Names Martian Hill That Serves as Mission ‘Gateway'\", 'paragraph': 'The name honors recently deceased mission scientist Rafael Navarro-González, who helped lead the team that identified ancient organic compounds on Mars', 'url': 'https://mars.nasa.gov/news/news/8907/nasas-curiosity-team-names-martian-hill-that-serves-as-mission-gateway/'}, {'title': \"NASA's Mars Helicopter Survives First Cold Martian Night on Its Own\", 'paragraph': 'NASA’s Ingenuity helicopter can be seen on Mars as viewed by the Perseverance rover’s rear Hazard Camera on April 4, 2021, the 44th Martian day, or sol of the mission.', 'url': 'https://mars.nasa.gov/news/news/8906/nasas-mars-helicopter-survives-first-cold-martian-night-on-its-own/'}, {'title': \"NASA's InSight Detects Two Sizable Quakes on Mars\", 'paragraph': 'The magnitude 3.3 and 3.1 temblors originated in a region called Cerberus Fossae, further supporting the idea that this location is seismically active.', 'url': 'https://mars.nasa.gov/news/news/8904/nasas-insight-detects-two-sizable-quakes-on-mars/'}, {'title': 'Sensors Collect Crucial Data on Mars Landings With Arrival of Perseverance ', 'paragraph': 'MEDLI2 was one of the crucial technologies onboard the rover’s protective aeroshell that helped document the entry, descent, and landing of the spacecraft. ', 'url': 'https://mars.nasa.gov/news/news/8903/sensors-collect-crucial-data-on-mars-landings-with-arrival-of-perseverance/'}, {'title': \"NASA's Curiosity Mars Rover Takes Selfie With 'Mont Mercou'\", 'paragraph': 'The rover also snapped a pair of panoramas to create a 3D view of the stark cliff face featured in the selfie.', 'url': 'https://mars.nasa.gov/news/news/8901/nasas-curiosity-mars-rover-takes-selfie-with-mont-mercou/'}, {'title': 'NASA Ingenuity Mars Helicopter Prepares for First Flight', 'paragraph': 'Now uncocooned from its protective carbon-fiber shield, the helicopter is being readied for its next steps.  ', 'url': 'https://mars.nasa.gov/news/news/8896/nasa-ingenuity-mars-helicopter-prepares-for-first-flight/'}, {'title': 'Another First: Perseverance Captures the Sounds of Driving on Mars', 'paragraph': 'NASA’s newest rover recorded audio of itself crunching over the surface of the Red Planet, adding a whole new dimension to Mars exploration.', 'url': 'https://mars.nasa.gov/news/news/8892/another-first-perseverance-captures-the-sounds-of-driving-on-mars/'}, {'title': 'NASA to Host Briefing to Preview First Mars Helicopter Flights', 'paragraph': 'Members of the projects will lay out the steps necessary before the helicopter attempts its historic test flights. ', 'url': 'https://mars.nasa.gov/news/news/8891/nasa-to-host-briefing-to-preview-first-mars-helicopter-flights/'}, {'title': \"New Study Challenges Long-Held Theory of Fate of Mars' Water\", 'paragraph': 'The new science results indicate that a large quantity of the Red Planet’s water is trapped in its crust rather than having escaped into space.', 'url': 'https://mars.nasa.gov/news/news/8888/new-study-challenges-long-held-theory-of-fate-of-mars-water/'}, {'title': \"NASA's Perseverance Mars Rover Mission Honors Navajo Language\", 'paragraph': 'Working with the Navajo Nation, the rover team has named features on Mars with words from the Navajo language.', 'url': 'https://mars.nasa.gov/news/news/8886/nasas-perseverance-mars-rover-mission-honors-navajo-language/'}, {'title': \"Perseverance Rover's SuperCam Science Instrument Delivers First Results\", 'paragraph': 'Data from the powerful science tool includes sounds of its laser zapping a rock in order to test what it’s made of.', 'url': 'https://mars.nasa.gov/news/news/8885/perseverance-rovers-supercam-science-instrument-delivers-first-results/'}, {'title': \"NASA's Perseverance Drives on Mars' Terrain for First Time\", 'paragraph': 'The first trek of the agency’s largest, most advanced rover yet on the Red Planet marks a major milestone before science operations get under way.', 'url': 'https://mars.nasa.gov/news/news/8882/nasas-perseverance-drives-on-mars-terrain-for-first-time/'}, {'title': 'Media Telecon Materials - March 5, 2021', 'paragraph': 'Mission team members are participating in a virtual teleconference to discuss milestones achieved so far since the Feb. 18 landing and those to come.', 'url': 'https://mars.nasa.gov/news/news/8881/media-telecon-materials-march-5-2021/'}, {'title': 'NASA Awards Mars Ascent Propulsion System Contract for Sample Return', 'paragraph': 'The award moves NASA and ESA a step closer to realizing Mars Sample Return, an ambitious planetary exploration program that will build upon decades of science, knowledge, and experience.', 'url': 'https://mars.nasa.gov/news/news/8880/nasa-awards-mars-ascent-propulsion-system-contract-for-sample-return/'}, {'title': \"NASA to Provide Update on Perseverance ‘Firsts' Since Mars Landing \", 'paragraph': 'Mission team members are participating in a virtual teleconference to discuss milestones achieved so far since the Feb. 18 landing and those to come.', 'url': 'https://mars.nasa.gov/news/news/8878/nasa-to-provide-update-on-perseverance-firsts-since-mars-landing/'}, {'title': 'Testing Proves Its Worth With Successful Mars Parachute Deployment', 'paragraph': 'The giant canopy that helped land Perseverance on Mars was tested here on Earth at NASA’s Wallops Flight Facility in Virginia.', 'url': 'https://mars.nasa.gov/news/news/8875/testing-proves-its-worth-with-successful-mars-parachute-deployment/'}, {'title': \"NASA's Perseverance Rover Gives High-Definition Panoramic View of Landing Site\", 'paragraph': 'A 360-degree panorama taken by the rover’s Mastcam-Z instrument will be discussed during a public video chat this Thursday.', 'url': 'https://mars.nasa.gov/news/news/8873/nasas-perseverance-rover-gives-high-definition-panoramic-view-of-landing-site/'}]\n"
     ]
    }
   ],
   "source": [
    "news = scrape_news()\n",
    "print(news)"
   ]
  },
  {
   "cell_type": "code",
   "execution_count": 5,
   "id": "conditional-default",
   "metadata": {},
   "outputs": [
    {
     "ename": "NameError",
     "evalue": "name 'scrape_featured_img' is not defined",
     "output_type": "error",
     "traceback": [
      "\u001b[0;31m---------------------------------------------------------------------------\u001b[0m",
      "\u001b[0;31mNameError\u001b[0m                                 Traceback (most recent call last)",
      "\u001b[0;32m<ipython-input-5-4414798607b0>\u001b[0m in \u001b[0;36m<module>\u001b[0;34m\u001b[0m\n\u001b[0;32m----> 1\u001b[0;31m \u001b[0mfimage\u001b[0m \u001b[0;34m=\u001b[0m \u001b[0mscrape_featured_img\u001b[0m\u001b[0;34m(\u001b[0m\u001b[0;34m)\u001b[0m\u001b[0;34m\u001b[0m\u001b[0;34m\u001b[0m\u001b[0m\n\u001b[0m\u001b[1;32m      2\u001b[0m \u001b[0mprint\u001b[0m\u001b[0;34m(\u001b[0m\u001b[0mfimage\u001b[0m\u001b[0;34m)\u001b[0m\u001b[0;34m\u001b[0m\u001b[0;34m\u001b[0m\u001b[0m\n",
      "\u001b[0;31mNameError\u001b[0m: name 'scrape_featured_img' is not defined"
     ]
    }
   ],
   "source": [
    "fimage = scrape_featured_img()\n",
    "print(fimage)"
   ]
  },
  {
   "cell_type": "code",
   "execution_count": null,
   "id": "funky-writing",
   "metadata": {},
   "outputs": [],
   "source": []
  },
  {
   "cell_type": "code",
   "execution_count": null,
   "id": "competent-library",
   "metadata": {},
   "outputs": [],
   "source": [
    "def update_database(news,fimage,facts,hemisphere):\n",
    "    ###### Setup MongoDB - Insert the data\n",
    "    conn = (\"mongodb+srv://\"+username+\":\"+password +\n",
    "            \"@cluster0.ow6cz.mongodb.net/mars_db?retryWrites=true&w=majority\")\n",
    "\n",
    "    client = pymongo.MongoClient(conn)\n",
    "\n",
    "    db_name = 'mars_db'\n",
    "\n",
    "    # Check if db exists, create one if it does not\n",
    "    #if db_name in dblist:\n",
    "    #    print(\"The Database exists\")\n",
    "    #    mydb = client[db_name]\n",
    "    #else:\n",
    "    #    print(f'The DB does not exists. Creating {db_name} for you.')\n",
    "    #    # Create new database\n",
    "    #    mydb = client[db_name]\n",
    "    mydb = client[db_name]\n",
    "\n",
    "    # If collection exists then drop\n",
    "    try:\n",
    "        mydb.drop_collection('news')\n",
    "        mydb.drop_collection('fimage')\n",
    "        mydb.drop_collection('facts')\n",
    "        mydb.drop_collection('hemisphere')\n",
    "    except:\n",
    "        pass\n",
    "\n",
    "    # Create Collections\n",
    "    news = mydb['news']\n",
    "    fimage = mydb['fimage']\n",
    "    comparison = mydb['facts']\n",
    "    mars_hemispheres = mydb['hemisphere']\n",
    "\n",
    "    # Insert the lists to collections\n",
    "    news.insert(news)\n",
    "    fimage.insert(fimage)\n",
    "    comparison.insert(facts)\n",
    "    mars_hemispheres.insert(hemisphere)"
   ]
  },
  {
   "cell_type": "code",
   "execution_count": null,
   "id": "likely-ending",
   "metadata": {},
   "outputs": [],
   "source": []
  }
 ],
 "metadata": {
  "kernelspec": {
   "display_name": "Python 3",
   "language": "python",
   "name": "python3"
  },
  "language_info": {
   "codemirror_mode": {
    "name": "ipython",
    "version": 3
   },
   "file_extension": ".py",
   "mimetype": "text/x-python",
   "name": "python",
   "nbconvert_exporter": "python",
   "pygments_lexer": "ipython3",
   "version": "3.6.10"
  }
 },
 "nbformat": 4,
 "nbformat_minor": 5
}
