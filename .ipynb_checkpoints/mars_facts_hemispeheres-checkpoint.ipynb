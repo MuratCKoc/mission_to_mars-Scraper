{
 "cells": [
  {
   "cell_type": "code",
   "execution_count": 17,
   "id": "cultural-personality",
   "metadata": {},
   "outputs": [],
   "source": [
    "# Import Dependencies\n",
    "from splinter import Browser\n",
    "from bs4 import BeautifulSoup as soup\n",
    "import pandas as pd\n",
    "from time import sleep\n",
    "from pprint import pprint"
   ]
  },
  {
   "cell_type": "code",
   "execution_count": 18,
   "id": "thorough-pharmaceutical",
   "metadata": {},
   "outputs": [],
   "source": [
    "# Set the exec path and init the chrome browser\n",
    "executable_path = {'executable_path': '/usr/local/bin/chromedriver'}\n",
    "browser = Browser('chrome', **executable_path)"
   ]
  },
  {
   "cell_type": "code",
   "execution_count": 12,
   "id": "equivalent-designer",
   "metadata": {},
   "outputs": [],
   "source": [
    "def scrape_facts():\n",
    "    try:\n",
    "        #Visit the Nasa mars news site\n",
    "        mars_url = 'https://space-facts.com/mars/'\n",
    "        sleep(2)\n",
    "        mars_df = pd.read_html(mars_url)[1]\n",
    "        \n",
    "\n",
    "        mars_df.columns = ['Mars - Earth Comparison', 'Mars', 'Earth']\n",
    "        mars_html_table = mars_df.to_html(header=None, index=False)\n",
    "        mars_html_table.replace('\\n', '')\n",
    "    finally:\n",
    "        browser.quit()\n",
    "    return mars_html"
   ]
  },
  {
   "cell_type": "code",
   "execution_count": 13,
   "id": "smaller-trademark",
   "metadata": {},
   "outputs": [
    {
     "name": "stdout",
     "output_type": "stream",
     "text": [
      "<table border=\"1\" class=\"dataframe\">\n",
      "  <tbody>\n",
      "    <tr>\n",
      "      <td>Diameter:</td>\n",
      "      <td>6,779 km</td>\n",
      "      <td>12,742 km</td>\n",
      "    </tr>\n",
      "    <tr>\n",
      "      <td>Mass:</td>\n",
      "      <td>6.39 × 10^23 kg</td>\n",
      "      <td>5.97 × 10^24 kg</td>\n",
      "    </tr>\n",
      "    <tr>\n",
      "      <td>Moons:</td>\n",
      "      <td>2</td>\n",
      "      <td>1</td>\n",
      "    </tr>\n",
      "    <tr>\n",
      "      <td>Distance from Sun:</td>\n",
      "      <td>227,943,824 km</td>\n",
      "      <td>149,598,262 km</td>\n",
      "    </tr>\n",
      "    <tr>\n",
      "      <td>Length of Year:</td>\n",
      "      <td>687 Earth days</td>\n",
      "      <td>365.24 days</td>\n",
      "    </tr>\n",
      "    <tr>\n",
      "      <td>Temperature:</td>\n",
      "      <td>-87 to -5 °C</td>\n",
      "      <td>-88 to 58°C</td>\n",
      "    </tr>\n",
      "  </tbody>\n",
      "</table>\n"
     ]
    }
   ],
   "source": [
    "print(scrape_facts())"
   ]
  },
  {
   "cell_type": "code",
   "execution_count": 19,
   "id": "seasonal-tomorrow",
   "metadata": {},
   "outputs": [],
   "source": [
    "def scrape_hemispheres():\n",
    "    try:\n",
    "        # Visist Mars webpage\n",
    "        base_mars_url = 'https://astrogeology.usgs.gov/'\n",
    "        url_s = 'https://astrogeology.usgs.gov/search/results?q=hemisphere+enhanced&k1=target&v1=Mars'\n",
    "        browser.visit(url_s)\n",
    "        sleep(1)\n",
    "        mars_html = browser.html\n",
    "        mars_ = soup(mars_html, 'html.parser')\n",
    "        items_ = mars_.find_all('div', class_='item')\n",
    "\n",
    "        # Create a list of hemispheres' titles and full size images\n",
    "        mars_hemispheres_list = []\n",
    "        for i in range(len(items_)):\n",
    "            # Visit links\n",
    "            browser.visit(base_mars_url.rstrip(base_mars_url[-1]) + items_[i].a[\"href\"])\n",
    "            # Find the full image link and append it to list\n",
    "            mars_hemispheres_list.append({\"title\": items_[i].h3.text,\n",
    "            \"img_url\" : browser.links.find_by_partial_href(\"full.jpg\")[0]['href']})\n",
    "        mars_hemispheres_list\n",
    "    finally:\n",
    "        browser.quit()\n",
    "    return mars_hemispheres_list"
   ]
  },
  {
   "cell_type": "code",
   "execution_count": 20,
   "id": "detected-refund",
   "metadata": {},
   "outputs": [
    {
     "name": "stdout",
     "output_type": "stream",
     "text": [
      "[{'title': 'Cerberus Hemisphere Enhanced', 'img_url': 'https://astropedia.astrogeology.usgs.gov/download/Mars/Viking/cerberus_enhanced.tif/full.jpg'}, {'title': 'Schiaparelli Hemisphere Enhanced', 'img_url': 'https://astropedia.astrogeology.usgs.gov/download/Mars/Viking/schiaparelli_enhanced.tif/full.jpg'}, {'title': 'Syrtis Major Hemisphere Enhanced', 'img_url': 'https://astropedia.astrogeology.usgs.gov/download/Mars/Viking/syrtis_major_enhanced.tif/full.jpg'}, {'title': 'Valles Marineris Hemisphere Enhanced', 'img_url': 'https://astropedia.astrogeology.usgs.gov/download/Mars/Viking/valles_marineris_enhanced.tif/full.jpg'}]\n"
     ]
    }
   ],
   "source": [
    "print(scrape_hemispheres())"
   ]
  },
  {
   "cell_type": "code",
   "execution_count": null,
   "id": "unlimited-listing",
   "metadata": {},
   "outputs": [],
   "source": []
  }
 ],
 "metadata": {
  "kernelspec": {
   "display_name": "Python 3",
   "language": "python",
   "name": "python3"
  },
  "language_info": {
   "codemirror_mode": {
    "name": "ipython",
    "version": 3
   },
   "file_extension": ".py",
   "mimetype": "text/x-python",
   "name": "python",
   "nbconvert_exporter": "python",
   "pygments_lexer": "ipython3",
   "version": "3.6.10"
  }
 },
 "nbformat": 4,
 "nbformat_minor": 5
}
