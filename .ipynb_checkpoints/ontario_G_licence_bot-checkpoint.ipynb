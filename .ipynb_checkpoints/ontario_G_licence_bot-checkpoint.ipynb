{
 "cells": [
  {
   "cell_type": "code",
   "execution_count": 3,
   "id": "efficient-playback",
   "metadata": {},
   "outputs": [],
   "source": [
    "# Import Dependencies\n",
    "from splinter import Browser\n",
    "from bs4 import BeautifulSoup as soup\n",
    "import pandas as pd\n",
    "from time import sleep\n",
    "from pprint import pprint"
   ]
  },
  {
   "cell_type": "code",
   "execution_count": 7,
   "id": "welcome-dominican",
   "metadata": {},
   "outputs": [],
   "source": [
    "def licence():\n",
    "    # Featured image:\n",
    "    executable_path = {'executable_path': '/usr/local/bin/chromedriver'}\n",
    "    browser = Browser('chrome', **executable_path)\n",
    "    featured_image_dict = {}\n",
    "    \n",
    "    try:\n",
    "        #Visit base page\n",
    "        base_image_url = 'https://drivetest.ca/book-a-road-test/booking.html'\n",
    "        browser.visit(base_image_url)\n",
    "        sleep(2)\n",
    "\n",
    "        email = 'busraceliks@gmail.com'\n",
    "        licence = 'C23821040945822'\n",
    "        expiry = '20250630'\n",
    "        browser.find_by_name('emailAddress').fill(email)\n",
    "        browser.find_by_name('confirmEmailAddress').fill(email)\n",
    "        browser.find_by_name('licenceNumber').fill(licence)\n",
    "        browser.find_by_name('licenceExpiryDate').fill(expiry)\n",
    "        browser.find_by_id('regSubmitBtn').click()\n",
    "        \n",
    "        \n",
    "        # Check Mars from filters\n",
    "        #browser.is_element_present_by_id('filter_Mars')\n",
    "        #browser.find_by_id('filter_Mars').first.click()\n",
    "        sleep(2)\n",
    "\n",
    "        # Click the first link\n",
    "        #browser.click_link_by_partial_href('/images')\n",
    "        #sleep(2)\n",
    "\n",
    "        # Get title\n",
    "        #featured_title = browser.find_by_tag('h1').first.value\n",
    "        #print(featured_title)\n",
    "\n",
    "        # Get url\n",
    "        #featured_image_url = browser.url\n",
    "        #featured_image_dict = {\"title\":featured_title,\"url\":featured_image_url}\n",
    "        #print(featured_image_dict)\n",
    "    finally:\n",
    "        print('ASD')\n",
    "        #browser.quit()\n",
    "    \n",
    "    # Return the dictionary\n",
    "    #return featured_image_dict"
   ]
  },
  {
   "cell_type": "code",
   "execution_count": 8,
   "id": "respected-resistance",
   "metadata": {},
   "outputs": [
    {
     "name": "stdout",
     "output_type": "stream",
     "text": [
      "ASD\n"
     ]
    }
   ],
   "source": [
    "licence()"
   ]
  },
  {
   "cell_type": "code",
   "execution_count": null,
   "id": "careful-legislation",
   "metadata": {},
   "outputs": [],
   "source": []
  }
 ],
 "metadata": {
  "kernelspec": {
   "display_name": "Python 3",
   "language": "python",
   "name": "python3"
  },
  "language_info": {
   "codemirror_mode": {
    "name": "ipython",
    "version": 3
   },
   "file_extension": ".py",
   "mimetype": "text/x-python",
   "name": "python",
   "nbconvert_exporter": "python",
   "pygments_lexer": "ipython3",
   "version": "3.6.10"
  }
 },
 "nbformat": 4,
 "nbformat_minor": 5
}
