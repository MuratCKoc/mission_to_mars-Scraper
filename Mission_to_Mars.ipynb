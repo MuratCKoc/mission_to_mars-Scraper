{
 "metadata": {
  "language_info": {
   "codemirror_mode": {
    "name": "ipython",
    "version": 3
   },
   "file_extension": ".py",
   "mimetype": "text/x-python",
   "name": "python",
   "nbconvert_exporter": "python",
   "pygments_lexer": "ipython3",
   "version": "3.6.10"
  },
  "orig_nbformat": 2,
  "kernelspec": {
   "name": "python3610jvsc74a57bd0a02f7c4771e62c269bab44fdc5009e74a328fcdc7a6746e21254691fe4ed714c",
   "display_name": "Python 3.6.10 64-bit ('base': conda)"
  }
 },
 "nbformat": 4,
 "nbformat_minor": 2,
 "cells": [
  {
   "cell_type": "code",
   "execution_count": 28,
   "metadata": {},
   "outputs": [],
   "source": [
    "# Import Dependencies\n",
    "from splinter import Browser\n",
    "from bs4 import BeautifulSoup as soup\n",
    "import pandas as pd\n",
    "from time import sleep"
   ]
  },
  {
   "cell_type": "code",
   "execution_count": 29,
   "metadata": {},
   "outputs": [
    {
     "output_type": "stream",
     "name": "stdout",
     "text": [
      "/usr/local/bin/chromedriver\n"
     ]
    }
   ],
   "source": [
    "# Path to chromedriver\n",
    "!which chromedriver"
   ]
  },
  {
   "cell_type": "code",
   "execution_count": 30,
   "metadata": {},
   "outputs": [],
   "source": [
    "# Set the exec path and init the chrome browser\n",
    "executable_path = {'executable_path': '/usr/local/bin/chromedriver'}\n",
    "browser = Browser('chrome', **executable_path)"
   ]
  },
  {
   "cell_type": "code",
   "execution_count": 31,
   "metadata": {},
   "outputs": [],
   "source": [
    "##Visit the Nasa mars news site"
   ]
  },
  {
   "cell_type": "code",
   "execution_count": 32,
   "metadata": {
    "tags": [
     "outputPrepend"
    ]
   },
   "outputs": [
    {
     "output_type": "stream",
     "name": "stdout",
     "text": [
      "e addthis_32x32_style\"><a addthis:userid=\"MarsCuriosity\" class=\"addthis_button_twitter_follow icon at300b\" href=\"//twitter.com/MarsCuriosity\" target=\"_blank\" title=\"Follow on Twitter\">\n<img alt=\"twitter\" src=\"/assets/twitter_icon@2x.png\"/>\n<span class=\"addthis_follow_label\">Twitter</span></a><a addthis:userid=\"MarsCuriosity\" class=\"addthis_button_facebook_follow icon at300b\" href=\"http://www.facebook.com/MarsCuriosity\" target=\"_blank\" title=\"Follow on Facebook\">\n<img alt=\"facebook\" src=\"/assets/facebook_icon@2x.png\"/>\n<span class=\"addthis_follow_label\">Facebook</span></a><a addthis:userid=\"nasa\" class=\"addthis_button_instagram_follow icon at300b\" href=\"http://instagram.com/nasa\" target=\"_blank\" title=\"Follow on Instagram\">\n<img alt=\"instagram\" src=\"/assets/instagram_icon@2x.png\"/>\n<span class=\"addthis_follow_label\">Instagram</span></a><a addthis:url=\"https://mars.nasa.gov/rss/api/?feed=news&amp;category=all&amp;feedtype=rss\" class=\"addthis_button_rss_follow icon at300b\" href=\"https://mars.nasa.gov/rss/api/?feed=news&amp;category=all&amp;feedtype=rss\" target=\"_blank\" title=\"Follow on RSS\">\n<img alt=\"rss\" src=\"/assets/rss_icon@2x.png\"/>\n<span class=\"addthis_follow_label\">RSS</span></a><div class=\"atclear\"></div></div>\n</div>\n<script src=\"//s7.addthis.com/js/300/addthis_widget.js#pubid=ra-5a690e4c1320e328\"></script>\n</div>\n</div>\n<div class=\"gradient_line\"></div>\n</section>\n<section class=\"sitemap\">\n<div class=\"sitemap_directory\" id=\"sitemap_directory\" style=\"position: relative; height: 293.516px;\">\n<div class=\"sitemap_block\" style=\"position: absolute; left: 0px; top: 0px;\">\n<div class=\"footer_sitemap_item\">\n<h3 class=\"sitemap_title\">\n<a href=\"/#red_planet\">The Red Planet</a>\n</h3>\n<ul><li>\n<div class=\"global_subnav_container\">\n<ul class=\"subnav\">\n<li>\n<a href=\"/#red_planet/0\" target=\"_self\">Dashboard</a>\n</li>\n<li>\n<a href=\"/#red_planet/1\" target=\"_self\">Science Goals</a>\n</li>\n<li>\n<a href=\"/#red_planet/2\" target=\"_self\">The Planet</a>\n</li>\n<li>\n<a href=\"/#red_planet/3\" target=\"_self\">Atmosphere</a>\n</li>\n<li>\n<a href=\"/#red_planet/4\" target=\"_self\">Astrobiology</a>\n</li>\n<li>\n<a href=\"/#red_planet/5\" target=\"_self\">Past, Present, Future, Timeline</a>\n</li>\n</ul>\n</div>\n</li></ul>\n</div>\n</div>\n<div class=\"sitemap_block\" style=\"position: absolute; left: 191px; top: 0px;\">\n<div class=\"footer_sitemap_item\">\n<h3 class=\"sitemap_title\">\n<a href=\"/#mars_exploration_program\">The Program</a>\n</h3>\n<ul><li>\n<div class=\"global_subnav_container\">\n<ul class=\"subnav\">\n<li>\n<a href=\"/#mars_exploration_program/0\" target=\"_self\">Mission Statement</a>\n</li>\n<li>\n<a href=\"/#mars_exploration_program/1\" target=\"_self\">About the Program</a>\n</li>\n<li>\n<a href=\"/#mars_exploration_program/2\" target=\"_self\">Organization</a>\n</li>\n<li>\n<a href=\"/#mars_exploration_program/3\" target=\"_self\">Why Mars?</a>\n</li>\n<li>\n<a href=\"/#mars_exploration_program/4\" target=\"_self\">Research Programs</a>\n</li>\n<li>\n<a href=\"/#mars_exploration_program/5\" target=\"_self\">Planetary Resources</a>\n</li>\n<li>\n<a href=\"/#mars_exploration_program/6\" target=\"_self\">Technologies</a>\n</li>\n</ul>\n</div>\n</li></ul>\n</div>\n</div>\n<div class=\"sitemap_block\" style=\"position: absolute; left: 383px; top: 0px;\">\n<div class=\"footer_sitemap_item\">\n<h3 class=\"sitemap_title\">\n<a href=\"/#news_and_events\">News &amp; Events</a>\n</h3>\n<ul><li>\n<div class=\"global_subnav_container\">\n<ul class=\"subnav\">\n<li class=\"current\">\n<a href=\"/news\" target=\"_self\">News</a>\n</li>\n<li>\n<a href=\"/events\" target=\"_self\">Events</a>\n</li>\n</ul>\n</div>\n</li></ul>\n</div>\n</div>\n<div class=\"sitemap_block\" style=\"position: absolute; left: 574px; top: 0px;\">\n<div class=\"footer_sitemap_item\">\n<h3 class=\"sitemap_title\">\n<a href=\"/#multimedia\">Multimedia</a>\n</h3>\n<ul><li>\n<div class=\"global_subnav_container\">\n<ul class=\"subnav\">\n<li>\n<a href=\"/multimedia/images/\" target=\"_self\">Images</a>\n</li>\n<li>\n<a href=\"/multimedia/videos/\" target=\"_self\">Videos</a>\n</li>\n<li>\n<a href=\"/mars2020/multimedia/audio/\" target=\"_self\">Audio</a>\n</li>\n<li>\n<a href=\"/multimedia/more-resources/\" target=\"_self\">More Resources</a>\n</li>\n</ul>\n</div>\n</li></ul>\n</div>\n</div>\n<div class=\"sitemap_block\" style=\"position: absolute; left: 766px; top: 0px;\">\n<div class=\"footer_sitemap_item\">\n<h3 class=\"sitemap_title\">\n<a href=\"/#missions_gallery_subnav\">Missions</a>\n</h3>\n<ul><li>\n<div class=\"global_subnav_container\">\n<ul class=\"subnav\">\n<li>\n<a href=\"/mars-exploration/missions/?category=167\" target=\"_self\">Past</a>\n</li>\n<li>\n<a href=\"/mars-exploration/missions/?category=170\" target=\"_self\">Present</a>\n</li>\n<li>\n<a href=\"/mars-exploration/missions/?category=171\" target=\"_self\">Future</a>\n</li>\n<li>\n<a href=\"/mars-exploration/partners\" target=\"_self\">International Partners</a>\n</li>\n</ul>\n</div>\n</li></ul>\n</div>\n</div>\n<div class=\"sitemap_block\" style=\"position: absolute; left: 957px; top: 0px;\">\n<div class=\"footer_sitemap_item\">\n<h3 class=\"sitemap_title\">\n<a href=\"/#more\">More</a>\n</h3>\n<ul><li>\n<div class=\"global_subnav_container\">\n<ul class=\"subnav\">\n</ul>\n</div>\n</li></ul>\n</div>\n</div>\n</div>\n<div class=\"gradient_line\"></div>\n</section>\n<section class=\"lower_footer\">\n<div class=\"nav_container\">\n<nav>\n<ul>\n<li>\n<a href=\"http://science.nasa.gov/\" target=\"_blank\">NASA Science Mission Directorate</a>\n</li>\n<li>\n<a href=\"https://www.jpl.nasa.gov/copyrights.php\" target=\"_blank\">Privacy</a>\n</li>\n<li>\n<a href=\"http://www.jpl.nasa.gov/imagepolicy/\" target=\"_blank\">Image Policy</a>\n</li>\n<li>\n<a href=\"https://mars.nasa.gov/feedback/\" target=\"_self\">Feedback</a>\n</li>\n</ul>\n</nav>\n</div>\n<div class=\"credits\">\n<div class=\"footer_brands_top\">\n<p>Managed by the Mars Exploration Program and the Jet Propulsion Laboratory for NASA’s Science Mission Directorate</p>\n</div>\n<!-- .footer_brands -->\n<!-- %a.jpl{href: \"\", target: \"_blank\"}Institution -->\n<!-- -->\n<!-- %a.caltech{href: \"\", target: \"_blank\"}Institution -->\n<!-- .staff -->\n<!-- %p -->\n<!-- - get_staff_for_category(get_field_from_admin_config(:web_staff_category_id)) -->\n<!-- - @staff.each_with_index do |staff, idx| -->\n<!-- - unless staff.is_in_footer == 0 -->\n<!-- = staff.title + \": \" -->\n<!-- - if staff.contact_link =~ /@/ -->\n<!-- = mail_to staff.contact_link, staff.name, :subject => \"[#{@site_title}]\" -->\n<!-- - elsif staff.contact_link.present? -->\n<!-- = link_to staff.name, staff.contact_link -->\n<!-- - else -->\n<!-- = staff.name -->\n<!-- - unless (idx + 1 == @staff.size) -->\n<!-- %br -->\n</div>\n</section>\n</div>\n</footer>\n</div>\n</div><div id=\"_atssh\" style=\"visibility: hidden; height: 1px; width: 1px; position: absolute; top: -9999px; z-index: 100000;\"><iframe id=\"_atssh347\" src=\"https://s7.addthis.com/static/sh.f48a1a04fe8dbf021b4cda1d.html#rand=0.9208557241646287&amp;iit=1618700782656&amp;tmr=load%3D1618700782139%26core%3D1618700782190%26main%3D1618700782648%26ifr%3D1618700782660&amp;cb=0&amp;cdn=0&amp;md=0&amp;kw=Mars%2Cmissions%2CNASA%2Crover%2CCuriosity%2COpportunity%2CInSight%2CMars%20Reconnaissance%20Orbiter%2Cfacts&amp;ab=-&amp;dh=mars.nasa.gov&amp;dr=&amp;du=https%3A%2F%2Fmars.nasa.gov%2Fnews%2F&amp;href=https%3A%2F%2Fmars.nasa.gov%2Fnews%2F&amp;dt=News%20%20%E2%80%93%20NASA%E2%80%99s%20Mars%20Exploration%20Program&amp;dbg=0&amp;cap=tc%3D0%26ab%3D0&amp;inst=1&amp;jsl=1&amp;prod=undefined&amp;lng=en&amp;ogt=image%2Cupdated_time%2Ctype%3Darticle%2Curl%2Ctitle%2Cdescription%2Csite_name&amp;pc=men&amp;pub=ra-5a690e4c1320e328&amp;ssl=1&amp;sid=607b69ee06db74ed&amp;srf=0.01&amp;ver=300&amp;xck=1&amp;xtr=0&amp;og=site_name%3DNASA%25E2%2580%2599s%2520Mars%2520Exploration%2520Program%26description%3DNASA%25E2%2580%2599s%2520real-time%2520portal%2520for%2520Mars%2520exploration%252C%2520featuring%2520the%2520latest%2520news%252C%2520images%252C%2520and%2520discoveries%2520from%2520the%2520Red%2520Planet.%26title%3DNews%2520%2520%25E2%2580%2593%2520NASA%25E2%2580%2599s%2520Mars%2520Exploration%2520Program%26url%3Dhttps%253A%252F%252Fmars.nasa.gov%252Fnews%26type%3Darticle%26updated_time%3D2017-09-22%252019%253A53%253A22%2520UTC%26image%3Dhttps%253A%252F%252Fmars.nasa.gov%252Fsystem%252Fsite_config_values%252Fmeta_share_images%252F1_mars-nasa-gov.jpg&amp;csi=undefined&amp;rev=v8.28.8-wp&amp;ct=1&amp;xld=1&amp;xd=1\" style=\"height: 1px; width: 1px; position: absolute; top: 0px; z-index: 100000; border: 0px; left: 0px;\" title=\"AddThis utility frame\"></iframe></div><style id=\"service-icons-0\"></style>\n<script id=\"_fed_an_ua_tag\" src=\"https://dap.digitalgov.gov/Universal-Federated-Analytics-Min.js?agency=NASA&amp;subagency=JPL-Mars-MEPJPL&amp;pua=UA-9453474-9,UA-118212757-11&amp;dclink=true&amp;sp=searchbox&amp;exts=tif,tiff,wav\" type=\"text/javascript\"></script>\n<div aria-labelledby=\"at4-share-label\" class=\"addthis-smartlayers addthis-smartlayers-desktop\" role=\"region\"><div id=\"at4-share-label\">AddThis Sharing Sidebar</div><div class=\"at4-share addthis_32x32_style atss atss-left addthis-animated slideInLeft\" id=\"at4-share\"><a class=\"at-share-btn at-svc-facebook\" role=\"button\" tabindex=\"0\"><span class=\"at4-visually-hidden\">Share to Facebook</span><span class=\"at-icon-wrapper\" style=\"background-color: rgb(59, 89, 152);\"><svg aria-labelledby=\"at-svg-facebook-1\" class=\"at-icon at-icon-facebook\" role=\"img\" style=\"fill: rgb(255, 255, 255);\" version=\"1.1\" viewbox=\"0 0 32 32\" xmlns=\"http://www.w3.org/2000/svg\" xmlns:xlink=\"http://www.w3.org/1999/xlink\"><title id=\"at-svg-facebook-1\">Facebook</title><g><path d=\"M22 5.16c-.406-.054-1.806-.16-3.43-.16-3.4 0-5.733 1.825-5.733 5.17v2.882H9v3.913h3.837V27h4.604V16.965h3.823l.587-3.913h-4.41v-2.5c0-1.123.347-1.903 2.198-1.903H22V5.16z\" fill-rule=\"evenodd\"></path></g></svg></span></a><a class=\"at-share-btn at-svc-reddit\" role=\"button\" tabindex=\"0\"><span class=\"at4-visually-hidden\">Share to Reddit</span><span class=\"at-icon-wrapper\" style=\"background-color: rgb(255, 87, 0);\"><svg aria-labelledby=\"at-svg-reddit-2\" class=\"at-icon at-icon-reddit\" role=\"img\" style=\"fill: rgb(255, 255, 255);\" version=\"1.1\" viewbox=\"0 0 32 32\" xmlns=\"http://www.w3.org/2000/svg\" xmlns:xlink=\"http://www.w3.org/1999/xlink\"><title id=\"at-svg-reddit-2\">Reddit</title><g><path d=\"M27 15.5a2.452 2.452 0 0 1-1.338 2.21c.098.38.147.777.147 1.19 0 1.283-.437 2.47-1.308 3.563-.872 1.092-2.06 1.955-3.567 2.588-1.506.634-3.143.95-4.91.95-1.768 0-3.403-.316-4.905-.95-1.502-.632-2.69-1.495-3.56-2.587-.872-1.092-1.308-2.28-1.308-3.562 0-.388.045-.777.135-1.166a2.47 2.47 0 0 1-1.006-.912c-.253-.4-.38-.842-.38-1.322 0-.678.237-1.26.712-1.744a2.334 2.334 0 0 1 1.73-.726c.697 0 1.29.26 1.78.782 1.785-1.258 3.893-1.928 6.324-2.01l1.424-6.467a.42.42 0 0 1 .184-.26.4.4 0 0 1 .32-.063l4.53 1.006c.147-.306.368-.553.662-.74a1.78 1.78 0 0 1 .97-.278c.508 0 .94.18 1.302.54.36.36.54.796.54 1.31 0 .512-.18.95-.54 1.315-.36.364-.794.546-1.302.546-.507 0-.94-.18-1.295-.54a1.793 1.793 0 0 1-.533-1.308l-4.1-.92-1.277 5.86c2.455.074 4.58.736 6.37 1.985a2.315 2.315 0 0 1 1.757-.757c.68 0 1.256.242 1.73.726.476.484.713 1.066.713 1.744zm-16.868 2.47c0 .513.178.95.534 1.315.356.365.787.547 1.295.547.508 0 .942-.182 1.302-.547.36-.364.54-.802.54-1.315 0-.513-.18-.95-.54-1.31-.36-.36-.794-.54-1.3-.54-.5 0-.93.183-1.29.547a1.79 1.79 0 0 0-.54 1.303zm9.944 4.406c.09-.09.135-.2.135-.323a.444.444 0 0 0-.44-.447c-.124 0-.23.042-.32.124-.336.348-.83.605-1.486.77a7.99 7.99 0 0 1-1.964.248 7.99 7.99 0 0 1-1.964-.248c-.655-.165-1.15-.422-1.486-.77a.456.456 0 0 0-.32-.124.414.414 0 0 0-.306.124.41.41 0 0 0-.135.317.45.45 0 0 0 .134.33c.352.355.837.636 1.455.843.617.207 1.118.33 1.503.366a11.6 11.6 0 0 0 1.117.056c.36 0 .733-.02 1.117-.056.385-.037.886-.16 1.504-.366.62-.207 1.104-.488 1.456-.844zm-.037-2.544c.507 0 .938-.182 1.294-.547.356-.364.534-.802.534-1.315 0-.505-.18-.94-.54-1.303a1.75 1.75 0 0 0-1.29-.546c-.506 0-.94.18-1.3.54-.36.36-.54.797-.54 1.31s.18.95.54 1.315c.36.365.794.547 1.3.547z\" fill-rule=\"evenodd\"></path></g></svg></span></a><a class=\"at-share-btn at-svc-twitter\" role=\"button\" tabindex=\"0\"><span class=\"at4-visually-hidden\">Share to Twitter</span><span class=\"at-icon-wrapper\" style=\"background-color: rgb(29, 161, 242);\"><svg aria-labelledby=\"at-svg-twitter-3\" class=\"at-icon at-icon-twitter\" role=\"img\" style=\"fill: rgb(255, 255, 255);\" version=\"1.1\" viewbox=\"0 0 32 32\" xmlns=\"http://www.w3.org/2000/svg\" xmlns:xlink=\"http://www.w3.org/1999/xlink\"><title id=\"at-svg-twitter-3\">Twitter</title><g><path d=\"M27.996 10.116c-.81.36-1.68.602-2.592.71a4.526 4.526 0 0 0 1.984-2.496 9.037 9.037 0 0 1-2.866 1.095 4.513 4.513 0 0 0-7.69 4.116 12.81 12.81 0 0 1-9.3-4.715 4.49 4.49 0 0 0-.612 2.27 4.51 4.51 0 0 0 2.008 3.755 4.495 4.495 0 0 1-2.044-.564v.057a4.515 4.515 0 0 0 3.62 4.425 4.52 4.52 0 0 1-2.04.077 4.517 4.517 0 0 0 4.217 3.134 9.055 9.055 0 0 1-5.604 1.93A9.18 9.18 0 0 1 6 23.85a12.773 12.773 0 0 0 6.918 2.027c8.3 0 12.84-6.876 12.84-12.84 0-.195-.005-.39-.014-.583a9.172 9.172 0 0 0 2.252-2.336\" fill-rule=\"evenodd\"></path></g></svg></span></a><a class=\"at-share-btn at-svc-compact\" role=\"button\" tabindex=\"0\"><span class=\"at4-visually-hidden\">More AddThis Share options</span><span class=\"at-icon-wrapper\" style=\"background-color: rgb(255, 101, 80);\"><svg aria-labelledby=\"at-svg-addthis-4\" class=\"at-icon at-icon-addthis\" role=\"img\" style=\"fill: rgb(255, 255, 255);\" version=\"1.1\" viewbox=\"0 0 32 32\" xmlns=\"http://www.w3.org/2000/svg\" xmlns:xlink=\"http://www.w3.org/1999/xlink\"><title id=\"at-svg-addthis-4\">AddThis</title><g><path d=\"M18 14V8h-4v6H8v4h6v6h4v-6h6v-4h-6z\" fill-rule=\"evenodd\"></path></g></svg></span></a><div class=\"at-custom-sidebar-counter\" style=\"width: 48px; overflow-wrap: break-word;\"><div class=\"at-custom-sidebar-count\" style=\"color: rgb(34, 34, 34);\">458</div><div class=\"at-custom-sidebar-text\" style=\"color: rgb(34, 34, 34);\">SHARES</div></div><div class=\"at-share-close-control ats-transparent at4-hide-content at4-show\" id=\"at4-scc\" title=\"Hide\"><div class=\"at4-arrow at-left\">Hide</div></div></div><div class=\"at-share-open-control at-share-open-control-left ats-transparent at4-hide\" id=\"at4-soc\" title=\"Show\"><div class=\"at4-arrow at-right\">Show</div></div></div><div aria-labelledby=\"at-thankyou-label\" class=\"at4-thankyou at4-thankyou-background at4-hide ats-transparent at4-thankyou-desktop addthis-smartlayers addthis-animated fadeIn at4-show\" id=\"at4-thankyou\" role=\"dialog\"><div class=\"at4lb-inner\"><button class=\"at4x\" title=\"Close\">Close</button><a id=\"at4-palogo\"><div><a class=\"at-branding-logo\" href=\"https://www.addthis.com/website-tools/overview?utm_source=AddThis%20Tools&amp;utm_medium=image\" target=\"_blank\" title=\"Powered by AddThis\"><div class=\"at-branding-icon\"></div><span class=\"at-branding-addthis\">AddThis</span></a></div></a><div class=\"at4-thankyou-inner\"><div class=\"thankyou-title\" id=\"at-thankyou-label\"></div><div class=\"thankyou-description\"></div><div class=\"at4-thankyou-layer\"></div></div></div></div><div aria-labelledby=\"at-share-dock-label\" class=\"at-share-dock-outer at4-hide addthis-smartlayers at4-visually-hidden addthis-smartlayers-mobile\" role=\"region\"><div class=\"at4-hide\" id=\"at-share-dock-label\">AddThis Sharing</div><div class=\"at-share-dock atss atss-bottom at-shfs-small addthis-animated slideInUp at4-show at4-hide\" id=\"at-share-dock\"><a class=\"at4-count\" href=\"#\" style=\"width: 20%;\"><span class=\"at4-counter\"></span><span class=\"at4-share-label\">SHARES</span></a><a class=\"at-share-btn at-svc-facebook\" role=\"button\" style=\"width: 20%;\" tabindex=\"0\" title=\"Facebook\"><span class=\"at-icon-wrapper\" style=\"background-color: rgb(59, 89, 152);\"><svg alt=\"Facebook\" aria-labelledby=\"at-svg-facebook-5\" class=\"at-icon at-icon-facebook\" role=\"img\" style=\"fill: rgb(255, 255, 255); width: 24px; height: 24px;\" title=\"Facebook\" version=\"1.1\" viewbox=\"0 0 32 32\" xmlns=\"http://www.w3.org/2000/svg\" xmlns:xlink=\"http://www.w3.org/1999/xlink\"><title id=\"at-svg-facebook-5\">Facebook</title><g><path d=\"M22 5.16c-.406-.054-1.806-.16-3.43-.16-3.4 0-5.733 1.825-5.733 5.17v2.882H9v3.913h3.837V27h4.604V16.965h3.823l.587-3.913h-4.41v-2.5c0-1.123.347-1.903 2.198-1.903H22V5.16z\" fill-rule=\"evenodd\"></path></g></svg></span></a><a class=\"at-share-btn at-svc-reddit\" role=\"button\" style=\"width: 20%;\" tabindex=\"0\" title=\"Reddit\"><span class=\"at-icon-wrapper\" style=\"background-color: rgb(255, 87, 0);\"><svg alt=\"Reddit\" aria-labelledby=\"at-svg-reddit-6\" class=\"at-icon at-icon-reddit\" role=\"img\" style=\"fill: rgb(255, 255, 255); width: 24px; height: 24px;\" title=\"Reddit\" version=\"1.1\" viewbox=\"0 0 32 32\" xmlns=\"http://www.w3.org/2000/svg\" xmlns:xlink=\"http://www.w3.org/1999/xlink\"><title id=\"at-svg-reddit-6\">Reddit</title><g><path d=\"M27 15.5a2.452 2.452 0 0 1-1.338 2.21c.098.38.147.777.147 1.19 0 1.283-.437 2.47-1.308 3.563-.872 1.092-2.06 1.955-3.567 2.588-1.506.634-3.143.95-4.91.95-1.768 0-3.403-.316-4.905-.95-1.502-.632-2.69-1.495-3.56-2.587-.872-1.092-1.308-2.28-1.308-3.562 0-.388.045-.777.135-1.166a2.47 2.47 0 0 1-1.006-.912c-.253-.4-.38-.842-.38-1.322 0-.678.237-1.26.712-1.744a2.334 2.334 0 0 1 1.73-.726c.697 0 1.29.26 1.78.782 1.785-1.258 3.893-1.928 6.324-2.01l1.424-6.467a.42.42 0 0 1 .184-.26.4.4 0 0 1 .32-.063l4.53 1.006c.147-.306.368-.553.662-.74a1.78 1.78 0 0 1 .97-.278c.508 0 .94.18 1.302.54.36.36.54.796.54 1.31 0 .512-.18.95-.54 1.315-.36.364-.794.546-1.302.546-.507 0-.94-.18-1.295-.54a1.793 1.793 0 0 1-.533-1.308l-4.1-.92-1.277 5.86c2.455.074 4.58.736 6.37 1.985a2.315 2.315 0 0 1 1.757-.757c.68 0 1.256.242 1.73.726.476.484.713 1.066.713 1.744zm-16.868 2.47c0 .513.178.95.534 1.315.356.365.787.547 1.295.547.508 0 .942-.182 1.302-.547.36-.364.54-.802.54-1.315 0-.513-.18-.95-.54-1.31-.36-.36-.794-.54-1.3-.54-.5 0-.93.183-1.29.547a1.79 1.79 0 0 0-.54 1.303zm9.944 4.406c.09-.09.135-.2.135-.323a.444.444 0 0 0-.44-.447c-.124 0-.23.042-.32.124-.336.348-.83.605-1.486.77a7.99 7.99 0 0 1-1.964.248 7.99 7.99 0 0 1-1.964-.248c-.655-.165-1.15-.422-1.486-.77a.456.456 0 0 0-.32-.124.414.414 0 0 0-.306.124.41.41 0 0 0-.135.317.45.45 0 0 0 .134.33c.352.355.837.636 1.455.843.617.207 1.118.33 1.503.366a11.6 11.6 0 0 0 1.117.056c.36 0 .733-.02 1.117-.056.385-.037.886-.16 1.504-.366.62-.207 1.104-.488 1.456-.844zm-.037-2.544c.507 0 .938-.182 1.294-.547.356-.364.534-.802.534-1.315 0-.505-.18-.94-.54-1.303a1.75 1.75 0 0 0-1.29-.546c-.506 0-.94.18-1.3.54-.36.36-.54.797-.54 1.31s.18.95.54 1.315c.36.365.794.547 1.3.547z\" fill-rule=\"evenodd\"></path></g></svg></span></a><a class=\"at-share-btn at-svc-twitter\" role=\"button\" style=\"width: 20%;\" tabindex=\"0\" title=\"Twitter\"><span class=\"at-icon-wrapper\" style=\"background-color: rgb(29, 161, 242);\"><svg alt=\"Twitter\" aria-labelledby=\"at-svg-twitter-7\" class=\"at-icon at-icon-twitter\" role=\"img\" style=\"fill: rgb(255, 255, 255); width: 24px; height: 24px;\" title=\"Twitter\" version=\"1.1\" viewbox=\"0 0 32 32\" xmlns=\"http://www.w3.org/2000/svg\" xmlns:xlink=\"http://www.w3.org/1999/xlink\"><title id=\"at-svg-twitter-7\">Twitter</title><g><path d=\"M27.996 10.116c-.81.36-1.68.602-2.592.71a4.526 4.526 0 0 0 1.984-2.496 9.037 9.037 0 0 1-2.866 1.095 4.513 4.513 0 0 0-7.69 4.116 12.81 12.81 0 0 1-9.3-4.715 4.49 4.49 0 0 0-.612 2.27 4.51 4.51 0 0 0 2.008 3.755 4.495 4.495 0 0 1-2.044-.564v.057a4.515 4.515 0 0 0 3.62 4.425 4.52 4.52 0 0 1-2.04.077 4.517 4.517 0 0 0 4.217 3.134 9.055 9.055 0 0 1-5.604 1.93A9.18 9.18 0 0 1 6 23.85a12.773 12.773 0 0 0 6.918 2.027c8.3 0 12.84-6.876 12.84-12.84 0-.195-.005-.39-.014-.583a9.172 9.172 0 0 0 2.252-2.336\" fill-rule=\"evenodd\"></path></g></svg></span></a><a class=\"at-share-btn at-svc-compact\" role=\"button\" style=\"width: 20%;\" tabindex=\"0\" title=\"More\"><span class=\"at-icon-wrapper\" style=\"background-color: rgb(255, 101, 80);\"><svg alt=\"More\" aria-labelledby=\"at-svg-addthis-8\" class=\"at-icon at-icon-addthis\" role=\"img\" style=\"fill: rgb(255, 255, 255); width: 24px; height: 24px;\" title=\"More\" version=\"1.1\" viewbox=\"0 0 32 32\" xmlns=\"http://www.w3.org/2000/svg\" xmlns:xlink=\"http://www.w3.org/1999/xlink\"><title id=\"at-svg-addthis-8\">AddThis</title><g><path d=\"M18 14V8h-4v6H8v4h6v6h4v-6h6v-4h-6z\" fill-rule=\"evenodd\"></path></g></svg></span></a></div></div></body></html>\n"
     ]
    }
   ],
   "source": [
    "##Visit the Nasa mars news site\n",
    "url = 'https://mars.nasa.gov/news'\n",
    "browser.visit(url)\n",
    "\n",
    "# Optional delay for loading the page\n",
    "sleep(2)\n",
    "\n",
    "html = browser.html\n",
    "news_ = soup(html, 'html.parser')\n",
    "print(news_)\n",
    "# Shutdown the browser\n",
    "#browser.quit()\n"
   ]
  },
  {
   "cell_type": "code",
   "execution_count": 34,
   "metadata": {},
   "outputs": [
    {
     "output_type": "execute_result",
     "data": {
      "text/plain": [
       "<li class=\"slide\"><div class=\"image_and_description_container\"><a href=\"/news/8919/nasa-to-attempt-first-controlled-flight-on-mars-as-soon-as-monday/\" target=\"_self\"><div class=\"rollover_description\"><div class=\"rollover_description_inner\">A livestream will begin at 3:15 a.m. PDT that morning as the helicopter team prepares to receive the data downlink at NASA’s Jet Propulsion Laboratory.</div><div class=\"overlay_arrow\"><img alt=\"More\" src=\"/assets/overlay-arrow.png\"/></div></div><div class=\"list_image\"><img alt=\"Mars Helicopter’s blades can be seen in this video performing a wiggle test\" src=\"/system/news_items/list_view_images/8919_PIA24549-320.gif\"/></div><div class=\"bottom_gradient\"><div><h3>NASA to Attempt First Controlled Flight on Mars As Soon As Monday</h3></div></div></a><div class=\"list_text\"><div class=\"list_date\">April 17, 2021</div><div class=\"content_title\"><a href=\"/news/8919/nasa-to-attempt-first-controlled-flight-on-mars-as-soon-as-monday/\" target=\"_self\">NASA to Attempt First Controlled Flight on Mars As Soon As Monday</a></div><div class=\"article_teaser_body\">A livestream will begin at 3:15 a.m. PDT that morning as the helicopter team prepares to receive the data downlink at NASA’s Jet Propulsion Laboratory.</div></div></div></li>"
      ]
     },
     "metadata": {},
     "execution_count": 34
    }
   ],
   "source": [
    "slide_elem = news_.select_one('ul.item_list li.slide')\n",
    "slide_elem"
   ]
  },
  {
   "cell_type": "code",
   "execution_count": 36,
   "metadata": {},
   "outputs": [
    {
     "output_type": "execute_result",
     "data": {
      "text/plain": [
       "<div class=\"content_title\"><a href=\"/news/8919/nasa-to-attempt-first-controlled-flight-on-mars-as-soon-as-monday/\" target=\"_self\">NASA to Attempt First Controlled Flight on Mars As Soon As Monday</a></div>"
      ]
     },
     "metadata": {},
     "execution_count": 36
    }
   ],
   "source": [
    "# Find the parent element of title\n",
    "slide_elem.find(\"div\", class_=\"content_title\")"
   ]
  },
  {
   "cell_type": "code",
   "execution_count": 37,
   "metadata": {},
   "outputs": [
    {
     "output_type": "execute_result",
     "data": {
      "text/plain": [
       "'NASA to Attempt First Controlled Flight on Mars As Soon As Monday'"
      ]
     },
     "metadata": {},
     "execution_count": 37
    }
   ],
   "source": [
    "# Use the parent element to find the first 'a' tag and save it as `news_title`\n",
    "news_title = slide_elem.find(\"div\", class_=\"content_title\").get_text()\n",
    "news_title"
   ]
  },
  {
   "cell_type": "code",
   "execution_count": 40,
   "metadata": {},
   "outputs": [
    {
     "output_type": "execute_result",
     "data": {
      "text/plain": [
       "'A livestream will begin at 3:15 a.m. PDT that morning as the helicopter team prepares to receive the data downlink at NASA’s Jet Propulsion Laboratory.'"
      ]
     },
     "metadata": {},
     "execution_count": 40
    }
   ],
   "source": [
    "news_p = slide_elem.find(\"div\", class_=\"article_teaser_body\").get_text()\n",
    "news_p"
   ]
  },
  {
   "cell_type": "code",
   "execution_count": null,
   "metadata": {},
   "outputs": [],
   "source": []
  }
 ]
}