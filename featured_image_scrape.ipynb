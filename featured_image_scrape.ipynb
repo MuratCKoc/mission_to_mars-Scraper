{
 "cells": [
  {
   "cell_type": "code",
   "execution_count": 1,
   "id": "wooden-arizona",
   "metadata": {},
   "outputs": [],
   "source": [
    "# Import Dependencies\n",
    "from splinter import Browser\n",
    "from bs4 import BeautifulSoup as soup\n",
    "import pandas as pd\n",
    "from time import sleep\n",
    "from pprint import pprint"
   ]
  },
  {
   "cell_type": "code",
   "execution_count": 2,
   "id": "stylish-cedar",
   "metadata": {},
   "outputs": [
    {
     "name": "stdout",
     "output_type": "stream",
     "text": [
      "/usr/local/bin/chromedriver\r\n"
     ]
    }
   ],
   "source": [
    "# Path to chromedriver\n",
    "!which chromedriver"
   ]
  },
  {
   "cell_type": "code",
   "execution_count": 47,
   "id": "curious-council",
   "metadata": {},
   "outputs": [],
   "source": [
    "def scrape_featured_img():\n",
    "    # Featured image:\n",
    "    executable_path = {'executable_path': '/usr/local/bin/chromedriver'}\n",
    "    browser = Browser('chrome', **executable_path)\n",
    "    featured_image_dict = {}\n",
    "    \n",
    "    try:\n",
    "        #Visit base page\n",
    "        base_image_url = 'https://www.jpl.nasa.gov/images'\n",
    "        browser.visit(base_image_url)\n",
    "        sleep(2)\n",
    "\n",
    "        # Check Mars from filters\n",
    "        browser.is_element_present_by_id('filter_Mars')\n",
    "        browser.find_by_id('filter_Mars').first.click()\n",
    "        sleep(2)\n",
    "\n",
    "        # Click the first link\n",
    "        browser.click_link_by_partial_href('/images')\n",
    "        sleep(2)\n",
    "\n",
    "        # Get title\n",
    "        featured_title = browser.find_by_tag('h1').first.value\n",
    "        print(featured_title)\n",
    "\n",
    "        # Get url\n",
    "        featured_image_url = browser.url\n",
    "        featured_image_dict = {\"title\":featured_title,\"url\":featured_image_url}\n",
    "        print(featured_image_dict)\n",
    "    finally:\n",
    "        browser.quit()\n",
    "    \n",
    "    # Return the dictionary\n",
    "    return featured_image_dict"
   ]
  },
  {
   "cell_type": "code",
   "execution_count": 48,
   "id": "requested-advertising",
   "metadata": {},
   "outputs": [
    {
     "name": "stdout",
     "output_type": "stream",
     "text": [
      "Isil Crater - False Color\n",
      "{'title': 'Isil Crater - False Color', 'url': 'https://www.jpl.nasa.gov/images/isil-crater-false-color'}\n",
      "{'title': 'Isil Crater - False Color', 'url': 'https://www.jpl.nasa.gov/images/isil-crater-false-color'}\n"
     ]
    }
   ],
   "source": [
    "print(scrape_featured_img())"
   ]
  },
  {
   "cell_type": "code",
   "execution_count": null,
   "id": "naval-owner",
   "metadata": {},
   "outputs": [],
   "source": []
  }
 ],
 "metadata": {
  "kernelspec": {
   "display_name": "Python 3",
   "language": "python",
   "name": "python3"
  },
  "language_info": {
   "codemirror_mode": {
    "name": "ipython",
    "version": 3
   },
   "file_extension": ".py",
   "mimetype": "text/x-python",
   "name": "python",
   "nbconvert_exporter": "python",
   "pygments_lexer": "ipython3",
   "version": "3.6.10"
  }
 },
 "nbformat": 4,
 "nbformat_minor": 5
}
